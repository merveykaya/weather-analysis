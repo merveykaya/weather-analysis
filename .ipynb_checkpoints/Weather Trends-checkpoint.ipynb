{
 "cells": [
  {
   "cell_type": "markdown",
   "id": "e4d49daa",
   "metadata": {},
   "source": [
    "# Weather Trends\n",
    "\n",
    "## 1. Import Libraries"
   ]
  },
  {
   "cell_type": "code",
   "execution_count": 45,
   "id": "5f8872fb",
   "metadata": {},
   "outputs": [],
   "source": [
    "import pandas as pd\n",
    "import matplotlib.pyplot as plt"
   ]
  },
  {
   "cell_type": "markdown",
   "id": "99660044",
   "metadata": {},
   "source": [
    "## 2. Extract\n",
    "I used pandas with `read_csv` function to extract csv to dataframe. Prefered to plot with `matplotlib`\n",
    "* **cum_sum**: Cumulative summary of global temperature\n",
    "* **count**: Indicates to nr. of years\n",
    "* **mov_avg**: Moving average or rolling mean "
   ]
  },
  {
   "cell_type": "code",
   "execution_count": 46,
   "id": "47ee039c",
   "metadata": {
    "scrolled": true
   },
   "outputs": [],
   "source": [
    "df_city = pd.read_csv(\"C:/Users/uyalcink/Documents/Weather Trends/data/city_data.csv\")\n",
    "df_global = pd.read_csv(\"C:/Users/uyalcink/Documents/Weather Trends/data/global_data.csv\")\n",
    "df_global['cum_sum'] = df_global['avg_temp'].cumsum()\n",
    "df_global['count'] = range(1, len(df_global['avg_temp'])+1)\n",
    "df_global['mov_avg'] = df_global['cum_sum'] / df_global['count']"
   ]
  },
  {
   "cell_type": "markdown",
   "id": "25aba0f2",
   "metadata": {},
   "source": [
    "## 3. Exploration"
   ]
  },
  {
   "cell_type": "code",
   "execution_count": 47,
   "id": "086fb724",
   "metadata": {},
   "outputs": [
    {
     "data": {
      "text/html": [
       "<div>\n",
       "<style scoped>\n",
       "    .dataframe tbody tr th:only-of-type {\n",
       "        vertical-align: middle;\n",
       "    }\n",
       "\n",
       "    .dataframe tbody tr th {\n",
       "        vertical-align: top;\n",
       "    }\n",
       "\n",
       "    .dataframe thead th {\n",
       "        text-align: right;\n",
       "    }\n",
       "</style>\n",
       "<table border=\"1\" class=\"dataframe\">\n",
       "  <thead>\n",
       "    <tr style=\"text-align: right;\">\n",
       "      <th></th>\n",
       "      <th>year</th>\n",
       "      <th>city</th>\n",
       "      <th>country</th>\n",
       "      <th>avg_temp</th>\n",
       "    </tr>\n",
       "  </thead>\n",
       "  <tbody>\n",
       "    <tr>\n",
       "      <th>0</th>\n",
       "      <td>1743</td>\n",
       "      <td>Amsterdam</td>\n",
       "      <td>Netherlands</td>\n",
       "      <td>7.43</td>\n",
       "    </tr>\n",
       "    <tr>\n",
       "      <th>1</th>\n",
       "      <td>1744</td>\n",
       "      <td>Amsterdam</td>\n",
       "      <td>Netherlands</td>\n",
       "      <td>10.31</td>\n",
       "    </tr>\n",
       "    <tr>\n",
       "      <th>2</th>\n",
       "      <td>1745</td>\n",
       "      <td>Amsterdam</td>\n",
       "      <td>Netherlands</td>\n",
       "      <td>3.06</td>\n",
       "    </tr>\n",
       "    <tr>\n",
       "      <th>3</th>\n",
       "      <td>1746</td>\n",
       "      <td>Amsterdam</td>\n",
       "      <td>Netherlands</td>\n",
       "      <td>NaN</td>\n",
       "    </tr>\n",
       "    <tr>\n",
       "      <th>4</th>\n",
       "      <td>1747</td>\n",
       "      <td>Amsterdam</td>\n",
       "      <td>Netherlands</td>\n",
       "      <td>NaN</td>\n",
       "    </tr>\n",
       "    <tr>\n",
       "      <th>...</th>\n",
       "      <td>...</td>\n",
       "      <td>...</td>\n",
       "      <td>...</td>\n",
       "      <td>...</td>\n",
       "    </tr>\n",
       "    <tr>\n",
       "      <th>266</th>\n",
       "      <td>2009</td>\n",
       "      <td>Amsterdam</td>\n",
       "      <td>Netherlands</td>\n",
       "      <td>10.33</td>\n",
       "    </tr>\n",
       "    <tr>\n",
       "      <th>267</th>\n",
       "      <td>2010</td>\n",
       "      <td>Amsterdam</td>\n",
       "      <td>Netherlands</td>\n",
       "      <td>8.84</td>\n",
       "    </tr>\n",
       "    <tr>\n",
       "      <th>268</th>\n",
       "      <td>2011</td>\n",
       "      <td>Amsterdam</td>\n",
       "      <td>Netherlands</td>\n",
       "      <td>10.73</td>\n",
       "    </tr>\n",
       "    <tr>\n",
       "      <th>269</th>\n",
       "      <td>2012</td>\n",
       "      <td>Amsterdam</td>\n",
       "      <td>Netherlands</td>\n",
       "      <td>10.08</td>\n",
       "    </tr>\n",
       "    <tr>\n",
       "      <th>270</th>\n",
       "      <td>2013</td>\n",
       "      <td>Amsterdam</td>\n",
       "      <td>Netherlands</td>\n",
       "      <td>9.54</td>\n",
       "    </tr>\n",
       "  </tbody>\n",
       "</table>\n",
       "<p>271 rows × 4 columns</p>\n",
       "</div>"
      ],
      "text/plain": [
       "     year       city      country  avg_temp\n",
       "0    1743  Amsterdam  Netherlands      7.43\n",
       "1    1744  Amsterdam  Netherlands     10.31\n",
       "2    1745  Amsterdam  Netherlands      3.06\n",
       "3    1746  Amsterdam  Netherlands       NaN\n",
       "4    1747  Amsterdam  Netherlands       NaN\n",
       "..    ...        ...          ...       ...\n",
       "266  2009  Amsterdam  Netherlands     10.33\n",
       "267  2010  Amsterdam  Netherlands      8.84\n",
       "268  2011  Amsterdam  Netherlands     10.73\n",
       "269  2012  Amsterdam  Netherlands     10.08\n",
       "270  2013  Amsterdam  Netherlands      9.54\n",
       "\n",
       "[271 rows x 4 columns]"
      ]
     },
     "execution_count": 47,
     "metadata": {},
     "output_type": "execute_result"
    }
   ],
   "source": [
    "df_city"
   ]
  },
  {
   "cell_type": "code",
   "execution_count": 48,
   "id": "2c39a132",
   "metadata": {},
   "outputs": [
    {
     "data": {
      "text/html": [
       "<div>\n",
       "<style scoped>\n",
       "    .dataframe tbody tr th:only-of-type {\n",
       "        vertical-align: middle;\n",
       "    }\n",
       "\n",
       "    .dataframe tbody tr th {\n",
       "        vertical-align: top;\n",
       "    }\n",
       "\n",
       "    .dataframe thead th {\n",
       "        text-align: right;\n",
       "    }\n",
       "</style>\n",
       "<table border=\"1\" class=\"dataframe\">\n",
       "  <thead>\n",
       "    <tr style=\"text-align: right;\">\n",
       "      <th></th>\n",
       "      <th>year</th>\n",
       "      <th>avg_temp</th>\n",
       "      <th>cum_sum</th>\n",
       "      <th>count</th>\n",
       "      <th>mov_avg</th>\n",
       "    </tr>\n",
       "  </thead>\n",
       "  <tbody>\n",
       "    <tr>\n",
       "      <th>0</th>\n",
       "      <td>1750</td>\n",
       "      <td>8.72</td>\n",
       "      <td>8.72</td>\n",
       "      <td>1</td>\n",
       "      <td>8.720000</td>\n",
       "    </tr>\n",
       "    <tr>\n",
       "      <th>1</th>\n",
       "      <td>1751</td>\n",
       "      <td>7.98</td>\n",
       "      <td>16.70</td>\n",
       "      <td>2</td>\n",
       "      <td>8.350000</td>\n",
       "    </tr>\n",
       "    <tr>\n",
       "      <th>2</th>\n",
       "      <td>1752</td>\n",
       "      <td>5.78</td>\n",
       "      <td>22.48</td>\n",
       "      <td>3</td>\n",
       "      <td>7.493333</td>\n",
       "    </tr>\n",
       "    <tr>\n",
       "      <th>3</th>\n",
       "      <td>1753</td>\n",
       "      <td>8.39</td>\n",
       "      <td>30.87</td>\n",
       "      <td>4</td>\n",
       "      <td>7.717500</td>\n",
       "    </tr>\n",
       "    <tr>\n",
       "      <th>4</th>\n",
       "      <td>1754</td>\n",
       "      <td>8.47</td>\n",
       "      <td>39.34</td>\n",
       "      <td>5</td>\n",
       "      <td>7.868000</td>\n",
       "    </tr>\n",
       "    <tr>\n",
       "      <th>...</th>\n",
       "      <td>...</td>\n",
       "      <td>...</td>\n",
       "      <td>...</td>\n",
       "      <td>...</td>\n",
       "      <td>...</td>\n",
       "    </tr>\n",
       "    <tr>\n",
       "      <th>261</th>\n",
       "      <td>2011</td>\n",
       "      <td>9.52</td>\n",
       "      <td>2187.76</td>\n",
       "      <td>262</td>\n",
       "      <td>8.350229</td>\n",
       "    </tr>\n",
       "    <tr>\n",
       "      <th>262</th>\n",
       "      <td>2012</td>\n",
       "      <td>9.51</td>\n",
       "      <td>2197.27</td>\n",
       "      <td>263</td>\n",
       "      <td>8.354639</td>\n",
       "    </tr>\n",
       "    <tr>\n",
       "      <th>263</th>\n",
       "      <td>2013</td>\n",
       "      <td>9.61</td>\n",
       "      <td>2206.88</td>\n",
       "      <td>264</td>\n",
       "      <td>8.359394</td>\n",
       "    </tr>\n",
       "    <tr>\n",
       "      <th>264</th>\n",
       "      <td>2014</td>\n",
       "      <td>9.57</td>\n",
       "      <td>2216.45</td>\n",
       "      <td>265</td>\n",
       "      <td>8.363962</td>\n",
       "    </tr>\n",
       "    <tr>\n",
       "      <th>265</th>\n",
       "      <td>2015</td>\n",
       "      <td>9.83</td>\n",
       "      <td>2226.28</td>\n",
       "      <td>266</td>\n",
       "      <td>8.369474</td>\n",
       "    </tr>\n",
       "  </tbody>\n",
       "</table>\n",
       "<p>266 rows × 5 columns</p>\n",
       "</div>"
      ],
      "text/plain": [
       "     year  avg_temp  cum_sum  count   mov_avg\n",
       "0    1750      8.72     8.72      1  8.720000\n",
       "1    1751      7.98    16.70      2  8.350000\n",
       "2    1752      5.78    22.48      3  7.493333\n",
       "3    1753      8.39    30.87      4  7.717500\n",
       "4    1754      8.47    39.34      5  7.868000\n",
       "..    ...       ...      ...    ...       ...\n",
       "261  2011      9.52  2187.76    262  8.350229\n",
       "262  2012      9.51  2197.27    263  8.354639\n",
       "263  2013      9.61  2206.88    264  8.359394\n",
       "264  2014      9.57  2216.45    265  8.363962\n",
       "265  2015      9.83  2226.28    266  8.369474\n",
       "\n",
       "[266 rows x 5 columns]"
      ]
     },
     "execution_count": 48,
     "metadata": {},
     "output_type": "execute_result"
    }
   ],
   "source": [
    "df_global"
   ]
  },
  {
   "cell_type": "markdown",
   "id": "9436d1cf",
   "metadata": {},
   "source": [
    "## 4. Visualisation"
   ]
  },
  {
   "cell_type": "markdown",
   "id": "f0ef4a83",
   "metadata": {},
   "source": [
    "### 4.1 Temperature Change in Globe"
   ]
  },
  {
   "cell_type": "code",
   "execution_count": 59,
   "id": "3f281b27",
   "metadata": {},
   "outputs": [
    {
     "data": {
      "image/png": "[encoded data removed]",
      "text/plain": [
       "<Figure size 432x288 with 1 Axes>"
      ]
     },
     "metadata": {
      "needs_background": "light"
     },
     "output_type": "display_data"
    }
   ],
   "source": [
    "glb_year = df_global['year'].values\n",
    "avg_temp = df_global['mov_avg'].values\n",
    "\n",
    "\n",
    "fig, ax = plt.subplots(1, 1)\n",
    "ax.set_title('Temperature Change in Globe')\n",
    "ax.set_xlabel('Year')\n",
    "ax.set_ylabel('Temperature')\n",
    "\n",
    "\n",
    "glob = ax.plot(glb_year, avg_temp)"
   ]
  },
  {
   "cell_type": "markdown",
   "id": "7b813803",
   "metadata": {},
   "source": [
    "### 4.2 Temperature Change in Amsterdam"
   ]
  },
  {
   "cell_type": "code",
   "execution_count": 63,
   "id": "d24a7f32",
   "metadata": {},
   "outputs": [
    {
     "data": {
      "text/plain": [
       "[<matplotlib.lines.Line2D at 0x2d15eb26520>]"
      ]
     },
     "execution_count": 63,
     "metadata": {},
     "output_type": "execute_result"
    },
    {
     "data": {
      "image/png": "[encoded data removed]",
      "text/plain": [
       "<Figure size 432x288 with 1 Axes>"
      ]
     },
     "metadata": {
      "needs_background": "light"
     },
     "output_type": "display_data"
    }
   ],
   "source": [
    "df_city['cum_sum'] = df_city['avg_temp'].cumsum()\n",
    "df_city['count'] = range(1, len(df_city['avg_temp'])+1)\n",
    "df_city['mov_avg'] = df_city['cum_sum'] / df_city['count']\n",
    "\n",
    "glb_year = df_city['year'].values\n",
    "avg_temp = df_city['mov_avg'].values\n",
    "\n",
    "\n",
    "fig, ax = plt.subplots(1, 1)\n",
    "ax.set_title('Temperature Change in Amsterdam')\n",
    "ax.set_xlabel('Year')\n",
    "ax.set_ylabel('Temperature')\n",
    "\n",
    "\n",
    "ax.plot(glb_year, avg_temp)"
   ]
  }
 ],
 "metadata": {
  "kernelspec": {
   "display_name": "Python 3",
   "language": "python",
   "name": "python3"
  },
  "language_info": {
   "codemirror_mode": {
    "name": "ipython",
    "version": 3
   },
   "file_extension": ".py",
   "mimetype": "text/x-python",
   "name": "python",
   "nbconvert_exporter": "python",
   "pygments_lexer": "ipython3",
   "version": "3.8.8"
  }
 },
 "nbformat": 4,
 "nbformat_minor": 5
}
